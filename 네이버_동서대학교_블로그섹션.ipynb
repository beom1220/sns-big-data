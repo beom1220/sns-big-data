{
 "cells": [
  {
   "cell_type": "code",
   "execution_count": 44,
   "metadata": {},
   "outputs": [
    {
     "name": "stdout",
     "output_type": "stream",
     "text": [
      "크롤링할 키워드는 무엇입니까?: 동서대학교\n",
      "검색 결과를 저장할 파일경로와 이름을 지정하세요(예:c:\\data\\test.txt): c:\\data\\blog8.txt\n",
      " 요청하신 데이터 수집 작업이 정상적으로 완료되었습니다\n"
     ]
    }
   ],
   "source": [
    "from bs4 import BeautifulSoup     \n",
    "from selenium import webdriver\n",
    "from selenium.webdriver.common.keys import Keys\n",
    "from selenium.webdriver.common.by import By\n",
    "import time\n",
    "import sys\n",
    "\n",
    "query_txt = input('크롤링할 키워드는 무엇입니까?: ')\n",
    "f_name = input('검색 결과를 저장할 파일경로와 이름을 지정하세요(예:c:\\\\data\\\\test.txt): ')\n",
    "\n",
    "path = \"C:\\Temp\\chromedriver_win32\\chromedriver.exe\"\n",
    "driver = webdriver.Chrome(path)\n",
    "driver.get(\"https://www.naver.com\")\n",
    "time.sleep(2)\n",
    "\n",
    "# 아래 코드로 했을 때, 영어검색은 되는데 한글검색이 자꾸 안 돼서 url로 바로 이동하기로 했음.\n",
    "# driver.find_element(By.CLASS_NAME,\"search_input_box\").click()\n",
    "# element = driver.find_element(By.ID,\"query\").click()\n",
    "# driver.find_element(By.XPATH, '//*[@id=\"sform\"]/fieldset/button').send_keys(query_txt, '\\n')\n",
    "\n",
    "# URL이용해서 이동하는 코드. 다시 해결방법 찾아서 검색하는 방식으로 바꿈.\n",
    "# baseUrl = 'https://search.naver.com/search.naver?where=nexearch&sm=top_hty&fbm=0&ie=utf8&query='\n",
    "# url = baseUrl + query_txt\n",
    "# driver.get(url)\n",
    "\n",
    "element = driver.find_element(By.ID,\"query\")\n",
    "element.send_keys(query_txt)\n",
    "driver.find_element(By.XPATH, '//*[@id=\"sform\"]/fieldset/button').click()\n",
    "\n",
    "time.sleep(4)\n",
    "\n",
    "driver.find_element(By.LINK_TEXT,\"VIEW\").click()\n",
    "\n",
    "time.sleep(2)\n",
    "driver.find_element(By.LINK_TEXT,\"블로그\").click()\n",
    "\n",
    "full_html = driver.page_source\n",
    "\n",
    "soup = BeautifulSoup(full_html, 'html.parser')\n",
    "\n",
    "content_list = soup.find('ul',class_='lst_total')\n",
    "\n",
    "# 텍스트 추출\n",
    "if content_list is not None:\n",
    "    for i in content_list:\n",
    "        print(i.text.strip())\n",
    "        print(\"\\n\")\n",
    "else:\n",
    "    print(\"Content list not found\")\n",
    "\n",
    "    \n",
    "# 텍스트 추출하여 txt 파일에 저장.\n",
    "orig_stdout = sys.stdout\n",
    "f = open(f_name , 'a' , encoding='UTF-8')\n",
    "sys.stdout = f\n",
    "time.sleep(1)\n",
    "\n",
    "html = driver.page_source\n",
    "soup = BeautifulSoup(html, 'html.parser')\n",
    "# content_list = soup.find('ul',class_='lst_total')\n",
    "if content_list is not None:\n",
    "    for i in content_list:\n",
    "        print(i.text.strip())\n",
    "        print(\"\\n\")\n",
    "else:\n",
    "    print(\"Content list not found\")\n",
    "    \n",
    "sys.stdout = orig_stdout\n",
    "f.close()\n",
    "\n",
    "print(\" 요청하신 데이터 수집 작업이 정상적으로 완료되었습니다\")"
   ]
  },
  {
   "cell_type": "code",
   "execution_count": null,
   "metadata": {},
   "outputs": [],
   "source": []
  },
  {
   "cell_type": "code",
   "execution_count": null,
   "metadata": {},
   "outputs": [],
   "source": []
  }
 ],
 "metadata": {
  "kernelspec": {
   "display_name": "Python 3",
   "language": "python",
   "name": "python3"
  },
  "language_info": {
   "codemirror_mode": {
    "name": "ipython",
    "version": 3
   },
   "file_extension": ".py",
   "mimetype": "text/x-python",
   "name": "python",
   "nbconvert_exporter": "python",
   "pygments_lexer": "ipython3",
   "version": "3.5.4"
  }
 },
 "nbformat": 4,
 "nbformat_minor": 2
}
